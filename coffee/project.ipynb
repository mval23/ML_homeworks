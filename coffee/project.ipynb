{
 "cells": [
  {
   "cell_type": "markdown",
   "id": "9cb71874",
   "metadata": {},
   "source": [
    "## Predicción del Puntaje de Taza de Café a partir de Datos de Calidad y Proceso\n",
    "\n",
    "El presente proyecto tiene como finalidad desarrollar un modelo de regresión que permita predecir la calidad sensorial del café, expresada en el puntaje de taza otorgado por el panel de catadores, utilizando exclusivamente información recolectada antes del proceso de catación. Esta predicción puede ser útil como herramienta de control de calidad, estandarización de procesos y mejora continua en la cadena de producción del café.\n",
    "\n",
    "A continuación, procederemos a leer los tres archivos CSV que nos fueron entregados. Y se procede a cargar y visualizar las primeras filas de cada uno de estos archivos, con el fin de comprender su estructura y validar la calidad de los datos antes de iniciar el proceso de limpieza, transformación y entrenamiento del modelo.\n"
   ]
  },
  {
   "cell_type": "code",
   "execution_count": 44,
   "id": "4f46f986",
   "metadata": {},
   "outputs": [
    {
     "name": "stdout",
     "output_type": "stream",
     "text": [
      "Archivos cargados correctamente con codificación latin1.\n"
     ]
    }
   ],
   "source": [
    "import pandas as pd\n",
    "\n",
    "# Leer los archivos forzando codificación compatible\n",
    "df_calidad = pd.read_csv(\"Formato_de_Control_de Calidad_Cafe_de_Trillado.csv\", encoding='latin1')\n",
    "df_tostion = pd.read_csv(\"Formato_de_Tostion.csv\", encoding='latin1')\n",
    "df_despachos = pd.read_csv(\"Formato_de_Control_de_Despachos.csv\", encoding='latin1')\n",
    "\n",
    "print(\"Archivos cargados correctamente con codificación latin1.\")"
   ]
  }
 ],
 "metadata": {
  "kernelspec": {
   "display_name": "cs",
   "language": "python",
   "name": "python3"
  },
  "language_info": {
   "codemirror_mode": {
    "name": "ipython",
    "version": 3
   },
   "file_extension": ".py",
   "mimetype": "text/x-python",
   "name": "python",
   "nbconvert_exporter": "python",
   "pygments_lexer": "ipython3",
   "version": "3.13.5"
  }
 },
 "nbformat": 4,
 "nbformat_minor": 5
}
